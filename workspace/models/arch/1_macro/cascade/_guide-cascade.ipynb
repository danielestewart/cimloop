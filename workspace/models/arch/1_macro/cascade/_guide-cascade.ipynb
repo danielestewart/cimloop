{
 "cells": [
  {
   "cell_type": "code",
   "execution_count": 1,
   "metadata": {},
   "outputs": [],
   "source": [
    "from _tests import scripts\n",
    "from scripts.notebook_utils import *\n"
   ]
  },
  {
   "cell_type": "code",
   "execution_count": 2,
   "metadata": {},
   "outputs": [
    {
     "name": "stdout",
     "output_type": "stream",
     "text": [
      "Available DNNs: ['gpt2_medium', 'vgg16', 'mobilenet_v3', 'msft_phi_1_5', 'alexnet', 'mobilebert', 'vision_transformer', 'densenet201', 'resnet18', 'dpt_large']\n",
      "Running: 0 1 2 3 4 5 6 7 \n"
     ]
    }
   ],
   "source": [
    "def run_layer(dnn: str, layer: str):\n",
    "    print(f\"{layer} \", end=\"\", flush=True)\n",
    "    spec = get_spec(\n",
    "        \"cascade\",\n",
    "        # Weight-stationary, dummy buffer on top to hold inputs & outputs, many\n",
    "        # macros to ensure we can fit all weights.\n",
    "        system=\"cascade_dummy_buffer_many_macro\",\n",
    "        # Set the DNN and layer\n",
    "        dnn=dnn,\n",
    "        layer=layer,\n",
    "    )\n",
    "    \n",
    "\n",
    "    # Do NOT generate a maximum-utilization workload; we're running a DNN\n",
    "    # workload.\n",
    "    spec.variables[\"MAX_UTILIZATION\"] = False\n",
    "\n",
    "    spec.architecture.find(\"column\").spatial.meshX = 64\n",
    "    spec.architecture.find(\"row\").spatial.meshY = 64\n",
    "    spec.architecture.find(\"buffer_rram\").attributes.depth = 32\n",
    "    spec.architecture.find(\"buffer_rram\").attributes.width = 32\n",
    "    # display_diagram(spec.to_diagram([\"macro\", \"cim_array\", \"column\", \"row\"]))\n",
    "    factors = spec.architecture.find(\"adc\").constraints.temporal.factors_only\n",
    "    # factors.add_eq_factor(\"X\", 16, overwrite=True)\n",
    "    # factors_2 = spec.architecture.find(\"buffer_rram\").constraints.temporal.factors_only\n",
    "    # factors_2.add_eq_factor(\"X\", 4, overwrite=True)\n",
    "\n",
    "    \n",
    "    return run_mapper(spec)\n",
    "\n",
    "\n",
    "DNN_OPTIONS = [\n",
    "    d\n",
    "    for d in os.listdir(f\"../../../workloads/\")\n",
    "    if os.path.isdir(f\"../../../workloads/{d}\")\n",
    "]\n",
    "DNN_OPTIONS = [d for d in DNN_OPTIONS if not d.startswith(\"_\")]\n",
    "print(f\"Available DNNs: {DNN_OPTIONS}\")\n",
    "\n",
    "# =============================================================================\n",
    "# Change this DNN to explore different DNNs!\n",
    "# =============================================================================\n",
    "DNN = \"alexnet\"\n",
    "# =============================================================================\n",
    "# Change this DNN to explore different DNNs!\n",
    "# =============================================================================\n",
    "\n",
    "layers_2 = [f for f in os.listdir(f\"../../../workloads/{DNN}\") if f != \"index.yaml\" and f.endswith(\".yaml\")]\n",
    "layers_2 = sorted(layers_2)\n",
    "real_layers_2 = layers_2\n",
    "print(f\"Running: \", end=\"\")\n",
    "\n",
    "results_2 = joblib.Parallel(n_jobs=None)(\n",
    "    joblib.delayed(run_layer)(DNN, layer.split(\".\")[0]) for layer in real_layers_2\n",
    ")\n",
    "print(\"\")"
   ]
  },
  {
   "cell_type": "code",
   "execution_count": 7,
   "metadata": {},
   "outputs": [
    {
     "name": "stdout",
     "output_type": "stream",
     "text": [
      "total energy 0.0001560079429463081\n",
      "193600000000.0\n",
      "384000000000.0\n",
      "460800000000.0\n",
      "307200000000.0\n",
      "409600000000.0\n",
      "409600000000.0\n",
      "409600000000.0\n",
      "512000000000.0\n",
      "avg throughput 385800000000.0\n",
      "{'CiM': 1.2509593600000002e-13, 'Accumulation': 1.2620607999999999e-14, 'ADC': 7.000224e-14}\n",
      "{'CiM': 60.223699364617886, 'Accumulation': 6.075814501205628, 'ADC': 33.70048613417648}\n"
     ]
    },
    {
     "data": {
      "image/png": "[encoded data removed]",
      "text/plain": [
       "<Figure size 2000x500 with 1 Axes>"
      ]
     },
     "metadata": {},
     "output_type": "display_data"
    }
   ],
   "source": [
    "import copy\n",
    "\n",
    "results_copy = copy.deepcopy(results_2)\n",
    "total_energy = 0\n",
    "for r in results_copy:\n",
    "    total_energy += r.energy\n",
    "\n",
    "print(\"total energy\", total_energy)\n",
    "\n",
    "per_computer_dict = {}\n",
    "total_throughput = 0\n",
    "num_layers = 0\n",
    "for r in results_copy:\n",
    "    r.clear_zero_energies()\n",
    "    num_layers += 1\n",
    "    per_compute_dict = r.per_compute(\"per_component_energy\")\n",
    "    total_throughput += r.computes_per_second\n",
    "    print(r.computes_per_second)\n",
    "avg_throughput = total_throughput/num_layers\n",
    "print(\"avg throughput\", avg_throughput)\n",
    "# print(per_compute_dict)\n",
    "\n",
    "\n",
    "total_per_compute = {'CiM': 0, 'Accumulation': 0, 'ADC': 0}\n",
    "for r in results_copy:\n",
    "    per_compute = r.per_compute(\"per_component_energy\")\n",
    "    total_per_compute['CiM'] += per_compute['cim_unit']\n",
    "    total_per_compute['CiM'] += per_compute['row_drivers']\n",
    "    total_per_compute['CiM'] += per_compute['cascade_tia']\n",
    "    total_per_compute['Accumulation'] += per_compute['sum_amp']\n",
    "    total_per_compute['ADC'] += per_compute['adc']\n",
    "\n",
    "for k in total_per_compute:\n",
    "    total_per_compute[k] = total_per_compute[k]/num_layers\n",
    "\n",
    "print(total_per_compute)\n",
    "\n",
    "percent_breakdown = {}\n",
    "total_compute = 0\n",
    "for k in total_per_compute:\n",
    "    total_compute += total_per_compute[k]\n",
    "percent_breakdown['CiM'] = (total_per_compute[\"CiM\"]/total_compute) * 100\n",
    "percent_breakdown['Accumulation'] = (total_per_compute[\"Accumulation\"]/total_compute) * 100\n",
    "percent_breakdown['ADC'] = (total_per_compute[\"ADC\"]/total_compute) * 100\n",
    "print(percent_breakdown)\n",
    "\n",
    "# Display an energy breakdown for each layer as a bar chart. Display normalized per-MAC and per-layer energy.\n",
    "fig, ax = plt.subplots(figsize=(20, 5))\n",
    "\n",
    "bar_stacked(\n",
    "    {i: r.per_compute(\"per_component_energy\") * 1e15 for i, r in enumerate(results_copy)},\n",
    "    title=\"\",\n",
    "    xlabel=\"Layer\",\n",
    "    ylabel=\"Energy (fJ/MAC)\",\n",
    "    ax=ax,\n",
    ")"
   ]
  },
  {
   "cell_type": "code",
   "execution_count": 135,
   "metadata": {},
   "outputs": [
    {
     "name": "stdout",
     "output_type": "stream",
     "text": [
      "Mapping:\n",
      "dummy_top [ Inputs:334176 (334176) Outputs:4014080 (4014080) ] \n",
      "--------------------------------------------------------------\n",
      "| for P in [0:112)\n",
      "|   for Q in [0:28)\n",
      "\n",
      "inter_macro_in_system_spatial [ ] \n",
      "---------------------------------\n",
      "|     for S in [0:3) (Spatial-X)\n",
      "\n",
      "adc [ Outputs:1280 (1280) ] \n",
      "column_drivers [ Outputs:1280 (1280) ] \n",
      "sum_amp [ Outputs:1280 (1280) ] \n",
      "buffer_rram [ Outputs:1280 (1280) ] \n",
      "-----------------------------------\n",
      "|       for Q in [0:4)\n",
      "\n",
      "cascade_tia [ Outputs:320 (320) ] \n",
      "row_drivers [ Inputs:504 (504) ] \n",
      "inter_column_spatial [ ] \n",
      "------------------------\n",
      "|         for M in [0:64) (Spatial-X)\n",
      "\n",
      "inter_row_spatial [ ] \n",
      "---------------------\n",
      "|           for S in [0:3,1) (Spatial-Y)\n",
      "|             for R in [0:7) (Spatial-Y)\n",
      "|               for C in [0:3) (Spatial-Y)\n",
      "\n",
      "cim_unit [ Weights:8 (8) ] \n",
      "inter_1bit_x_1bit_mac_spatial [ ] \n",
      "---------------------------------\n",
      "|                 for Z in [0:5) (Spatial-X)\n",
      "|                   for Y in [0:8) (Spatial-X)\n",
      "|                     for X in [0:8) (Spatial-X)\n",
      "\n",
      "here_to_fix_a_bug [ ] \n",
      "---------------------\n",
      "|                       << Compute >>\n",
      "\n"
     ]
    }
   ],
   "source": [
    "highest_energy_result = max(results, key=lambda x: x.per_compute(\"energy\"))\n",
    "print(f\"Mapping:\\n{highest_energy_result.mapping}\")"
   ]
  }
 ],
 "metadata": {
  "kernelspec": {
   "display_name": "Python 3 (ipykernel)",
   "language": "python",
   "name": "python3"
  },
  "language_info": {
   "codemirror_mode": {
    "name": "ipython",
    "version": 3
   },
   "file_extension": ".py",
   "mimetype": "text/x-python",
   "name": "python",
   "nbconvert_exporter": "python",
   "pygments_lexer": "ipython3",
   "version": "3.8.10"
  }
 },
 "nbformat": 4,
 "nbformat_minor": 4
}
